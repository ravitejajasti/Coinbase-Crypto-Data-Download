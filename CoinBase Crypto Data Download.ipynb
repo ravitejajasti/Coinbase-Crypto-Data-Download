{
 "cells": [
  {
   "cell_type": "code",
   "execution_count": 1,
   "id": "f61b0160",
   "metadata": {},
   "outputs": [],
   "source": [
    "import requests\n",
    "import pandas as pd\n",
    "import time\n",
    "from datetime import datetime, timedelta"
   ]
  },
  {
   "cell_type": "code",
   "execution_count": 2,
   "id": "37615124",
   "metadata": {},
   "outputs": [],
   "source": [
    "apiUrl = 'https://api.pro.coinbase.com'"
   ]
  },
  {
   "cell_type": "code",
   "execution_count": 3,
   "id": "254799a4",
   "metadata": {},
   "outputs": [
    {
     "name": "stdout",
     "output_type": "stream",
     "text": [
      "0:05:00\n",
      "2022-02-19 23:44:13.843527\n",
      "2021-02-19 23:44:13.843527\n"
     ]
    }
   ],
   "source": [
    "#5min frequency\n",
    "barSize = '300'\n",
    "timeEnd = datetime.now()\n",
    "delta = timedelta(seconds = int(barSize))\n",
    "print(delta)\n",
    "#105120 records for 1 year data\n",
    "timeStart = timeEnd - (105120*delta)\n",
    "print(timeEnd)\n",
    "print(timeStart)"
   ]
  },
  {
   "cell_type": "code",
   "execution_count": 4,
   "id": "de5051b5",
   "metadata": {},
   "outputs": [
    {
     "data": {
      "text/plain": [
       "'2021-02-19T23:44:13.843527'"
      ]
     },
     "execution_count": 4,
     "metadata": {},
     "output_type": "execute_result"
    }
   ],
   "source": [
    "timeStart = timeStart.isoformat()\n",
    "timeEnd = timeEnd.isoformat()\n",
    "timeStart\n"
   ]
  },
  {
   "cell_type": "code",
   "execution_count": 5,
   "id": "331c4057",
   "metadata": {},
   "outputs": [
    {
     "data": {
      "text/plain": [
       "'2022-02-19T23:44:13.843527'"
      ]
     },
     "execution_count": 5,
     "metadata": {},
     "output_type": "execute_result"
    }
   ],
   "source": [
    "timeEnd"
   ]
  },
  {
   "cell_type": "code",
   "execution_count": 6,
   "id": "4b1b648d",
   "metadata": {},
   "outputs": [],
   "source": [
    "datf = pd.DataFrame([])"
   ]
  },
  {
   "cell_type": "code",
   "execution_count": 7,
   "id": "ed4ebd4d",
   "metadata": {},
   "outputs": [],
   "source": [
    "#Get all 5 min frequencyy time stamps\n",
    "\n",
    "l = (pd.DataFrame(columns=['NULL'],\n",
    "                  index=pd.date_range(timeStart, timeEnd,\n",
    "                                      freq='25H'))\n",
    "       .between_time('00:00','23:59')\n",
    "       .index.strftime('%Y-%m-%dT%H:%M:%SZ')\n",
    "       .tolist()\n",
    ")"
   ]
  },
  {
   "cell_type": "code",
   "execution_count": 8,
   "id": "a0879eae",
   "metadata": {},
   "outputs": [],
   "source": [
    "#verify\n",
    "\n",
    "from itertools import tee, islice, chain\n",
    "\n",
    "def previous_and_next(some_iterable):\n",
    "    prevs, items, nexts = tee(some_iterable, 3)\n",
    "    prevs = chain([None], prevs)\n",
    "    nexts = chain(islice(nexts, 1, None), [None])\n",
    "    return zip(prevs, items, nexts)\n",
    "\n",
    "#for previous, item, nxt in previous_and_next(l):\n",
    "    #print(\"Time is now\", item, \"next is\", nxt, \"previous is\", previous)"
   ]
  },
  {
   "cell_type": "code",
   "execution_count": null,
   "id": "38ffb7f3",
   "metadata": {},
   "outputs": [],
   "source": []
  },
  {
   "cell_type": "code",
   "execution_count": 9,
   "id": "24d7b6b4",
   "metadata": {},
   "outputs": [],
   "source": [
    "#Add or update one or more symbols\n",
    "#Add for loop for symbols more than one.\n",
    "sym = 'ETC'\n",
    "for previous, item, nxt in previous_and_next(l):\n",
    "    parameters = {\n",
    "        'start':item,\n",
    "        'end': nxt,\n",
    "        'granularity':barSize,\n",
    "    }\n",
    "\n",
    "    data = requests.get(f\"{apiUrl}/products/{sym}-USD/candles\",\n",
    "                       params =parameters,\n",
    "                       headers = {'content-type':'application/json'})\n",
    "    df = pd.DataFrame(data.json(),\n",
    "                     columns = ['time','low','high','open','close','volume'])\n",
    "    df['date'] = pd.to_datetime(df['time'],unit='s')\n",
    "    df = df[['date', 'open', 'high','close','volume']]\n",
    "    df['symbol'] = sym\n",
    "    datf = datf.append(df)\n",
    "    \n",
    "datf\n",
    "datf.to_csv('ETC1.csv', index=False)"
   ]
  },
  {
   "cell_type": "code",
   "execution_count": null,
   "id": "840c0641",
   "metadata": {},
   "outputs": [],
   "source": []
  }
 ],
 "metadata": {
  "kernelspec": {
   "display_name": "Python 3 (ipykernel)",
   "language": "python",
   "name": "python3"
  },
  "language_info": {
   "codemirror_mode": {
    "name": "ipython",
    "version": 3
   },
   "file_extension": ".py",
   "mimetype": "text/x-python",
   "name": "python",
   "nbconvert_exporter": "python",
   "pygments_lexer": "ipython3",
   "version": "3.9.7"
  }
 },
 "nbformat": 4,
 "nbformat_minor": 5
}
